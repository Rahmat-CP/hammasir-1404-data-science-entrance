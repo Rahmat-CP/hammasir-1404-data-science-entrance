{
  "nbformat": 4,
  "nbformat_minor": 0,
  "metadata": {
    "colab": {
      "provenance": [],
      "toc_visible": true
    },
    "kernelspec": {
      "name": "python3",
      "display_name": "Python 3"
    },
    "language_info": {
      "name": "python"
    }
  },
  "cells": [
    {
      "cell_type": "code",
      "execution_count": 1,
      "metadata": {
        "id": "rlTL7wchSvrE",
        "colab": {
          "base_uri": "https://localhost:8080/",
          "height": 73
        },
        "outputId": "e25695d8-2939-4d01-c226-2faa25c43634"
      },
      "outputs": [
        {
          "output_type": "display_data",
          "data": {
            "text/plain": [
              "<IPython.core.display.HTML object>"
            ],
            "text/html": [
              "\n",
              "     <input type=\"file\" id=\"files-46897101-0b95-4629-9028-01e9cf8f239c\" name=\"files[]\" multiple disabled\n",
              "        style=\"border:none\" />\n",
              "     <output id=\"result-46897101-0b95-4629-9028-01e9cf8f239c\">\n",
              "      Upload widget is only available when the cell has been executed in the\n",
              "      current browser session. Please rerun this cell to enable.\n",
              "      </output>\n",
              "      <script>// Copyright 2017 Google LLC\n",
              "//\n",
              "// Licensed under the Apache License, Version 2.0 (the \"License\");\n",
              "// you may not use this file except in compliance with the License.\n",
              "// You may obtain a copy of the License at\n",
              "//\n",
              "//      http://www.apache.org/licenses/LICENSE-2.0\n",
              "//\n",
              "// Unless required by applicable law or agreed to in writing, software\n",
              "// distributed under the License is distributed on an \"AS IS\" BASIS,\n",
              "// WITHOUT WARRANTIES OR CONDITIONS OF ANY KIND, either express or implied.\n",
              "// See the License for the specific language governing permissions and\n",
              "// limitations under the License.\n",
              "\n",
              "/**\n",
              " * @fileoverview Helpers for google.colab Python module.\n",
              " */\n",
              "(function(scope) {\n",
              "function span(text, styleAttributes = {}) {\n",
              "  const element = document.createElement('span');\n",
              "  element.textContent = text;\n",
              "  for (const key of Object.keys(styleAttributes)) {\n",
              "    element.style[key] = styleAttributes[key];\n",
              "  }\n",
              "  return element;\n",
              "}\n",
              "\n",
              "// Max number of bytes which will be uploaded at a time.\n",
              "const MAX_PAYLOAD_SIZE = 100 * 1024;\n",
              "\n",
              "function _uploadFiles(inputId, outputId) {\n",
              "  const steps = uploadFilesStep(inputId, outputId);\n",
              "  const outputElement = document.getElementById(outputId);\n",
              "  // Cache steps on the outputElement to make it available for the next call\n",
              "  // to uploadFilesContinue from Python.\n",
              "  outputElement.steps = steps;\n",
              "\n",
              "  return _uploadFilesContinue(outputId);\n",
              "}\n",
              "\n",
              "// This is roughly an async generator (not supported in the browser yet),\n",
              "// where there are multiple asynchronous steps and the Python side is going\n",
              "// to poll for completion of each step.\n",
              "// This uses a Promise to block the python side on completion of each step,\n",
              "// then passes the result of the previous step as the input to the next step.\n",
              "function _uploadFilesContinue(outputId) {\n",
              "  const outputElement = document.getElementById(outputId);\n",
              "  const steps = outputElement.steps;\n",
              "\n",
              "  const next = steps.next(outputElement.lastPromiseValue);\n",
              "  return Promise.resolve(next.value.promise).then((value) => {\n",
              "    // Cache the last promise value to make it available to the next\n",
              "    // step of the generator.\n",
              "    outputElement.lastPromiseValue = value;\n",
              "    return next.value.response;\n",
              "  });\n",
              "}\n",
              "\n",
              "/**\n",
              " * Generator function which is called between each async step of the upload\n",
              " * process.\n",
              " * @param {string} inputId Element ID of the input file picker element.\n",
              " * @param {string} outputId Element ID of the output display.\n",
              " * @return {!Iterable<!Object>} Iterable of next steps.\n",
              " */\n",
              "function* uploadFilesStep(inputId, outputId) {\n",
              "  const inputElement = document.getElementById(inputId);\n",
              "  inputElement.disabled = false;\n",
              "\n",
              "  const outputElement = document.getElementById(outputId);\n",
              "  outputElement.innerHTML = '';\n",
              "\n",
              "  const pickedPromise = new Promise((resolve) => {\n",
              "    inputElement.addEventListener('change', (e) => {\n",
              "      resolve(e.target.files);\n",
              "    });\n",
              "  });\n",
              "\n",
              "  const cancel = document.createElement('button');\n",
              "  inputElement.parentElement.appendChild(cancel);\n",
              "  cancel.textContent = 'Cancel upload';\n",
              "  const cancelPromise = new Promise((resolve) => {\n",
              "    cancel.onclick = () => {\n",
              "      resolve(null);\n",
              "    };\n",
              "  });\n",
              "\n",
              "  // Wait for the user to pick the files.\n",
              "  const files = yield {\n",
              "    promise: Promise.race([pickedPromise, cancelPromise]),\n",
              "    response: {\n",
              "      action: 'starting',\n",
              "    }\n",
              "  };\n",
              "\n",
              "  cancel.remove();\n",
              "\n",
              "  // Disable the input element since further picks are not allowed.\n",
              "  inputElement.disabled = true;\n",
              "\n",
              "  if (!files) {\n",
              "    return {\n",
              "      response: {\n",
              "        action: 'complete',\n",
              "      }\n",
              "    };\n",
              "  }\n",
              "\n",
              "  for (const file of files) {\n",
              "    const li = document.createElement('li');\n",
              "    li.append(span(file.name, {fontWeight: 'bold'}));\n",
              "    li.append(span(\n",
              "        `(${file.type || 'n/a'}) - ${file.size} bytes, ` +\n",
              "        `last modified: ${\n",
              "            file.lastModifiedDate ? file.lastModifiedDate.toLocaleDateString() :\n",
              "                                    'n/a'} - `));\n",
              "    const percent = span('0% done');\n",
              "    li.appendChild(percent);\n",
              "\n",
              "    outputElement.appendChild(li);\n",
              "\n",
              "    const fileDataPromise = new Promise((resolve) => {\n",
              "      const reader = new FileReader();\n",
              "      reader.onload = (e) => {\n",
              "        resolve(e.target.result);\n",
              "      };\n",
              "      reader.readAsArrayBuffer(file);\n",
              "    });\n",
              "    // Wait for the data to be ready.\n",
              "    let fileData = yield {\n",
              "      promise: fileDataPromise,\n",
              "      response: {\n",
              "        action: 'continue',\n",
              "      }\n",
              "    };\n",
              "\n",
              "    // Use a chunked sending to avoid message size limits. See b/62115660.\n",
              "    let position = 0;\n",
              "    do {\n",
              "      const length = Math.min(fileData.byteLength - position, MAX_PAYLOAD_SIZE);\n",
              "      const chunk = new Uint8Array(fileData, position, length);\n",
              "      position += length;\n",
              "\n",
              "      const base64 = btoa(String.fromCharCode.apply(null, chunk));\n",
              "      yield {\n",
              "        response: {\n",
              "          action: 'append',\n",
              "          file: file.name,\n",
              "          data: base64,\n",
              "        },\n",
              "      };\n",
              "\n",
              "      let percentDone = fileData.byteLength === 0 ?\n",
              "          100 :\n",
              "          Math.round((position / fileData.byteLength) * 100);\n",
              "      percent.textContent = `${percentDone}% done`;\n",
              "\n",
              "    } while (position < fileData.byteLength);\n",
              "  }\n",
              "\n",
              "  // All done.\n",
              "  yield {\n",
              "    response: {\n",
              "      action: 'complete',\n",
              "    }\n",
              "  };\n",
              "}\n",
              "\n",
              "scope.google = scope.google || {};\n",
              "scope.google.colab = scope.google.colab || {};\n",
              "scope.google.colab._files = {\n",
              "  _uploadFiles,\n",
              "  _uploadFilesContinue,\n",
              "};\n",
              "})(self);\n",
              "</script> "
            ]
          },
          "metadata": {}
        },
        {
          "output_type": "stream",
          "name": "stdout",
          "text": [
            "Saving commute_data.csv to commute_data.csv\n"
          ]
        }
      ],
      "source": [
        "from google.colab import files\n",
        "uploaded = files.upload()"
      ]
    },
    {
      "cell_type": "code",
      "source": [
        "# Importing necessary libraries\n",
        "import pandas as pd\n",
        "import numpy as np\n",
        "import matplotlib.pyplot as plt\n",
        "import seaborn as sns\n",
        "from scipy.stats import norm\n",
        "import math"
      ],
      "metadata": {
        "id": "H93fw5A8UV_u"
      },
      "execution_count": 2,
      "outputs": []
    },
    {
      "cell_type": "code",
      "source": [
        "df = pd.read_csv('commute_data.csv')\n",
        "# print(df.head())\n",
        "print(df.head().to_markdown(index=False))\n",
        "df.info()"
      ],
      "metadata": {
        "colab": {
          "base_uri": "https://localhost:8080/"
        },
        "id": "Y-OsHE3qUg3t",
        "outputId": "36b49614-ab0f-4d9c-e36f-7ad81eea3df0"
      },
      "execution_count": 5,
      "outputs": [
        {
          "output_type": "stream",
          "name": "stdout",
          "text": [
            "|   Trip_ID | User_ID   | Start_Region   | End_Region   |   Distance_km | Preferred_Mode   |   Avg_Speed_kmph |   Travel_Actual_Time_minute |   User_Rating |   Delay_min |\n",
            "|----------:|:----------|:---------------|:-------------|--------------:|:-----------------|-----------------:|----------------------------:|--------------:|------------:|\n",
            "|      1001 | U052      | District A     | District D   |           7.3 | Car              |          55.0774 |                         3.2 |             4 |         2.6 |\n",
            "|      1002 | U093      | District E     | District D   |          15.4 | Car              |          51.0479 |                        18.3 |             3 |         6.6 |\n",
            "|      1003 | U015      | District A     | District E   |           1.9 | Car              |          48.8238 |                         2.8 |             3 |         0.2 |\n",
            "|      1004 | U072      | District C     | District D   |          16.3 | Car              |          49.7332 |                        17.9 |             5 |         0.2 |\n",
            "|      1005 | U061      | District B     | District E   |           8.8 | Public Transport |          32.142  |                        18.1 |             1 |         4   |\n",
            "<class 'pandas.core.frame.DataFrame'>\n",
            "RangeIndex: 200 entries, 0 to 199\n",
            "Data columns (total 10 columns):\n",
            " #   Column                     Non-Null Count  Dtype  \n",
            "---  ------                     --------------  -----  \n",
            " 0   Trip_ID                    200 non-null    int64  \n",
            " 1   User_ID                    200 non-null    object \n",
            " 2   Start_Region               200 non-null    object \n",
            " 3   End_Region                 200 non-null    object \n",
            " 4   Distance_km                200 non-null    float64\n",
            " 5   Preferred_Mode             200 non-null    object \n",
            " 6   Avg_Speed_kmph             200 non-null    float64\n",
            " 7   Travel_Actual_Time_minute  200 non-null    float64\n",
            " 8   User_Rating                200 non-null    int64  \n",
            " 9   Delay_min                  200 non-null    float64\n",
            "dtypes: float64(4), int64(2), object(4)\n",
            "memory usage: 15.8+ KB\n"
          ]
        }
      ]
    },
    {
      "cell_type": "markdown",
      "source": [
        "# section 1"
      ],
      "metadata": {
        "id": "VJMbNVzEVrfq"
      }
    },
    {
      "cell_type": "code",
      "source": [
        "mean_travel_time = df['Travel_Actual_Time_minute'].mean()\n",
        "median_travel_time = df['Travel_Actual_Time_minute'].median()\n",
        "print(f'mean travel time: {mean_travel_time}')\n",
        "print(f'median travel time: {median_travel_time}')"
      ],
      "metadata": {
        "colab": {
          "base_uri": "https://localhost:8080/"
        },
        "id": "VGn32bNxVvZo",
        "outputId": "16811a67-cd5d-42c7-ba80-4a72645adbe8"
      },
      "execution_count": 6,
      "outputs": [
        {
          "output_type": "stream",
          "name": "stdout",
          "text": [
            "mean travel time: 54.583\n",
            "median travel time: 26.85\n"
          ]
        }
      ]
    },
    {
      "cell_type": "code",
      "source": [
        "# average of popular method\n",
        "popular_mode = df['Preferred_Mode'].mode()[0]\n",
        "avg_rating_popular = df[df['Preferred_Mode'] == popular_mode]['User_Rating'].mean()\n",
        "print(f'popular method: {popular_mode}')\n",
        "print(f'average rating of popular method: {avg_rating_popular}')"
      ],
      "metadata": {
        "colab": {
          "base_uri": "https://localhost:8080/"
        },
        "id": "rZ9GTJprXFc2",
        "outputId": "687ba4cd-1b7d-4809-ad2f-5b4ef7e1628f"
      },
      "execution_count": 15,
      "outputs": [
        {
          "output_type": "stream",
          "name": "stdout",
          "text": [
            "popular method: Public Transport\n",
            "average rating of popular method: 3.509433962264151\n"
          ]
        }
      ]
    },
    {
      "cell_type": "code",
      "source": [
        "short_trip_df = df[df['Distance_km'] < 5].copy()\n",
        "if short_trip_df.empty:\n",
        "    print(\"No short trips found.\")\n",
        "else:\n",
        "    avg_time_short_trip = short_trip_df['Travel_Actual_Time_minute'].mean()\n",
        "    print(f'average time of short trips: {avg_time_short_trip}')\n",
        "    avg_time_by_mode_short_trips = short_trip_df.groupby('Preferred_Mode')['Travel_Actual_Time_minute'].mean().sort_values()\n",
        "    print('average time by mode for short trips')\n",
        "    print(avg_time_by_mode_short_trips.to_markdown(headers=['vihecle', \"avg (min)\"]))\n",
        "\n",
        "    if 'Bike' in avg_time_by_mode_short_trips.index:\n",
        "        if avg_time_by_mode_short_trips.idxmin() == 'Bike':\n",
        "            print('yes, bike is the best')\n",
        "        else:\n",
        "            print(f\"no, {avg_time_by_mode_short_trips.idxmin()} is the best way!\")\n",
        "    else:\n",
        "        print(\"we have not short trips by bike\")"
      ],
      "metadata": {
        "colab": {
          "base_uri": "https://localhost:8080/"
        },
        "id": "L5tS4PQHYTzA",
        "outputId": "67c0f447-ff0d-4aaa-f77a-88af36efd623"
      },
      "execution_count": 19,
      "outputs": [
        {
          "output_type": "stream",
          "name": "stdout",
          "text": [
            "average time of short trips: 16.717391304347828\n",
            "average time by mode for short trips\n",
            "| vihecle          |   avg (min) |\n",
            "|:-----------------|------------:|\n",
            "| Car              |     5.125   |\n",
            "| Public Transport |     5.75714 |\n",
            "| Bike             |    16.08    |\n",
            "| Walking          |    34.7571  |\n",
            "no, Car is the best way!\n"
          ]
        }
      ]
    }
  ]
}